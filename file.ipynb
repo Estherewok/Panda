{
 "cells": [
  {
   "cell_type": "code",
   "execution_count": 1,
   "metadata": {},
   "outputs": [],
   "source": [
    "import pandas as pd"
   ]
  },
  {
   "cell_type": "code",
   "execution_count": 14,
   "metadata": {},
   "outputs": [
    {
     "data": {
      "text/plain": [
       "Vee    403\n",
       "Sil    153\n",
       "Me     352\n",
       "Sam    459\n",
       "dtype: int64"
      ]
     },
     "execution_count": 14,
     "metadata": {},
     "output_type": "execute_result"
    }
   ],
   "source": [
    "# Creating basic series objects\n",
    "pd.Series([80, 29, 50])\n",
    "# Adding keys(Index)\n",
    "x = pd.Series([80, 29, 50], ['Vee', 'Sil', 'Me'])\n",
    "# Check if you can perform CRUD operations\n",
    "#Creating a new row\n",
    "x['Sam'] = 90\n",
    "x\n",
    "# Retrieving data\n",
    "# x.Vee\n",
    "# Retrieving row data\n",
    "x.loc['Me']\n",
    "# Retrieving data based on index location\n",
    "x.iloc[3]\n",
    "# Updating row data\n",
    "# x.Me = 87\n",
    "x.loc['Me'] = 70\n",
    "x\n",
    "# Executing an element-wise operations\n",
    "x *= 5\n",
    "x\n",
    "x = x + [3, 8, 2, 9]\n",
    "x\n",
    "# Data cleaning by removing non-numbers\n",
    "x = x.dropna(axis = 0) # axis0 means drops rows with none numbers\n",
    "x "
   ]
  },
  {
   "cell_type": "code",
   "execution_count": 15,
   "metadata": {},
   "outputs": [
    {
     "data": {
      "text/html": [
       "<div>\n",
       "<style scoped>\n",
       "    .dataframe tbody tr th:only-of-type {\n",
       "        vertical-align: middle;\n",
       "    }\n",
       "\n",
       "    .dataframe tbody tr th {\n",
       "        vertical-align: top;\n",
       "    }\n",
       "\n",
       "    .dataframe thead th {\n",
       "        text-align: right;\n",
       "    }\n",
       "</style>\n",
       "<table border=\"1\" class=\"dataframe\">\n",
       "  <thead>\n",
       "    <tr style=\"text-align: right;\">\n",
       "      <th></th>\n",
       "      <th>Name</th>\n",
       "      <th>Scores</th>\n",
       "    </tr>\n",
       "  </thead>\n",
       "  <tbody>\n",
       "    <tr>\n",
       "      <th>0</th>\n",
       "      <td>Est</td>\n",
       "      <td>30</td>\n",
       "    </tr>\n",
       "    <tr>\n",
       "      <th>1</th>\n",
       "      <td>Uby</td>\n",
       "      <td>60</td>\n",
       "    </tr>\n",
       "    <tr>\n",
       "      <th>2</th>\n",
       "      <td>Ben</td>\n",
       "      <td>50</td>\n",
       "    </tr>\n",
       "    <tr>\n",
       "      <th>3</th>\n",
       "      <td>Mr. Sam</td>\n",
       "      <td>40</td>\n",
       "    </tr>\n",
       "  </tbody>\n",
       "</table>\n",
       "</div>"
      ],
      "text/plain": [
       "      Name   Scores\n",
       "0      Est       30\n",
       "1      Uby       60\n",
       "2      Ben       50\n",
       "3  Mr. Sam       40"
      ]
     },
     "execution_count": 15,
     "metadata": {},
     "output_type": "execute_result"
    }
   ],
   "source": [
    "# Reading, Ingesting files from other sources\n",
    "pd.read_csv('scores.csv')"
   ]
  },
  {
   "cell_type": "code",
   "execution_count": 17,
   "metadata": {},
   "outputs": [
    {
     "data": {
      "text/html": [
       "<div>\n",
       "<style scoped>\n",
       "    .dataframe tbody tr th:only-of-type {\n",
       "        vertical-align: middle;\n",
       "    }\n",
       "\n",
       "    .dataframe tbody tr th {\n",
       "        vertical-align: top;\n",
       "    }\n",
       "\n",
       "    .dataframe thead th {\n",
       "        text-align: right;\n",
       "    }\n",
       "</style>\n",
       "<table border=\"1\" class=\"dataframe\">\n",
       "  <thead>\n",
       "    <tr style=\"text-align: right;\">\n",
       "      <th></th>\n",
       "      <th>Phy</th>\n",
       "      <th>Chm</th>\n",
       "      <th>Bio</th>\n",
       "      <th>Chem</th>\n",
       "    </tr>\n",
       "  </thead>\n",
       "  <tbody>\n",
       "    <tr>\n",
       "      <th>0</th>\n",
       "      <td>80</td>\n",
       "      <td>45.0</td>\n",
       "      <td>60</td>\n",
       "      <td>NaN</td>\n",
       "    </tr>\n",
       "    <tr>\n",
       "      <th>1</th>\n",
       "      <td>80</td>\n",
       "      <td>47.0</td>\n",
       "      <td>83</td>\n",
       "      <td>NaN</td>\n",
       "    </tr>\n",
       "    <tr>\n",
       "      <th>2</th>\n",
       "      <td>71</td>\n",
       "      <td>NaN</td>\n",
       "      <td>71</td>\n",
       "      <td>80.0</td>\n",
       "    </tr>\n",
       "  </tbody>\n",
       "</table>\n",
       "</div>"
      ],
      "text/plain": [
       "   Phy   Chm  Bio  Chem\n",
       "0   80  45.0   60   NaN\n",
       "1   80  47.0   83   NaN\n",
       "2   71   NaN   71  80.0"
      ]
     },
     "execution_count": 17,
     "metadata": {},
     "output_type": "execute_result"
    }
   ],
   "source": [
    "# Pandas DataFrame\n",
    "#  Creating basic panda data frames\n",
    "pd.DataFrame([\n",
    "    {'Phy' : 80, 'Chm' : 45, 'Bio' : 60},\n",
    "    {'Phy' : 80, 'Chm' : 47, 'Bio' : 83},\n",
    "    {'Phy' : 71, 'Chem' : 80, 'Bio' : 71}\n",
    "    ])"
   ]
  },
  {
   "cell_type": "code",
   "execution_count": 47,
   "metadata": {},
   "outputs": [
    {
     "data": {
      "text/html": [
       "<div>\n",
       "<style scoped>\n",
       "    .dataframe tbody tr th:only-of-type {\n",
       "        vertical-align: middle;\n",
       "    }\n",
       "\n",
       "    .dataframe tbody tr th {\n",
       "        vertical-align: top;\n",
       "    }\n",
       "\n",
       "    .dataframe thead th {\n",
       "        text-align: right;\n",
       "    }\n",
       "</style>\n",
       "<table border=\"1\" class=\"dataframe\">\n",
       "  <thead>\n",
       "    <tr style=\"text-align: right;\">\n",
       "      <th></th>\n",
       "      <th>Phy</th>\n",
       "      <th>Chm</th>\n",
       "      <th>Bio</th>\n",
       "      <th>Math</th>\n",
       "      <th>Total</th>\n",
       "      <th>Average</th>\n",
       "    </tr>\n",
       "  </thead>\n",
       "  <tbody>\n",
       "    <tr>\n",
       "      <th>Sam</th>\n",
       "      <td>90</td>\n",
       "      <td>45</td>\n",
       "      <td>60</td>\n",
       "      <td>40</td>\n",
       "      <td>225</td>\n",
       "      <td>56.25</td>\n",
       "    </tr>\n",
       "    <tr>\n",
       "      <th>Pete</th>\n",
       "      <td>80</td>\n",
       "      <td>47</td>\n",
       "      <td>83</td>\n",
       "      <td>21</td>\n",
       "      <td>231</td>\n",
       "      <td>57.75</td>\n",
       "    </tr>\n",
       "    <tr>\n",
       "      <th>Est</th>\n",
       "      <td>71</td>\n",
       "      <td>80</td>\n",
       "      <td>71</td>\n",
       "      <td>70</td>\n",
       "      <td>292</td>\n",
       "      <td>73.00</td>\n",
       "    </tr>\n",
       "    <tr>\n",
       "      <th>Uby</th>\n",
       "      <td>10</td>\n",
       "      <td>50</td>\n",
       "      <td>40</td>\n",
       "      <td>60</td>\n",
       "      <td>160</td>\n",
       "      <td>40.00</td>\n",
       "    </tr>\n",
       "  </tbody>\n",
       "</table>\n",
       "</div>"
      ],
      "text/plain": [
       "      Phy  Chm  Bio  Math  Total  Average\n",
       "Sam    90   45   60    40    225    56.25\n",
       "Pete   80   47   83    21    231    57.75\n",
       "Est    71   80   71    70    292    73.00\n",
       "Uby    10   50   40    60    160    40.00"
      ]
     },
     "execution_count": 47,
     "metadata": {},
     "output_type": "execute_result"
    }
   ],
   "source": [
    "# Rows and columns individually are very similar to a numpy array\n",
    "x = pd.DataFrame([\n",
    "    {'Phy' : 80, 'Chm' : 45, 'Bio' : 60},\n",
    "    {'Phy' : 80, 'Chm' : 47, 'Bio' : 83},\n",
    "    {'Phy' : 71, 'Chm' : 80, 'Bio' : 71}\n",
    "    ], ['Sam', 'Pete', 'Est'])\n",
    "\n",
    "# Performing CRUD operations on Dataframe objects.\n",
    "#Creating Row data(index data)\n",
    "x.loc['Uby'] = [10, 50, 40]\n",
    "x\n",
    "# Creating column data\n",
    "x['Math'] = [40, 21, 70, 60]\n",
    "x\n",
    "# Retrieving Data(Row)\n",
    "x.loc['Sam']\n",
    "# Retrieving Column data\n",
    "x['Phy']\n",
    "#Retrieving mulitple columns\n",
    "x[['Math', 'Chm']]\n",
    "# Slicing rows\n",
    "x.iloc[0 : 3]\n",
    "# Slicing rows and Columns\n",
    "x.iloc[0 : 3, 1 : 3]\n",
    "# Updating and Creating columns from existing columns\n",
    "x['Total'] = x['Phy'] + x['Chm'] + x['Math'] + x['Bio']\n",
    "x\n",
    "# Average\n",
    "x['Average'] = x['Total']/(len(x.columns)-1)\n",
    "x\n",
    "# Updating row\n",
    "x.loc['Sam', 'Phy'] = 90\n",
    "x"
   ]
  },
  {
   "cell_type": "code",
   "execution_count": 34,
   "metadata": {},
   "outputs": [
    {
     "data": {
      "text/plain": [
       "Index(['Phy', 'Chm', 'Bio', 'Math', 'Total'], dtype='object')"
      ]
     },
     "execution_count": 34,
     "metadata": {},
     "output_type": "execute_result"
    }
   ],
   "source": [
    "x.columns"
   ]
  },
  {
   "cell_type": "code",
   "execution_count": 46,
   "metadata": {},
   "outputs": [
    {
     "data": {
      "text/plain": [
       "86.04166666666667"
      ]
     },
     "execution_count": 46,
     "metadata": {},
     "output_type": "execute_result"
    }
   ],
   "source": [
    "# Pandas Functions\n",
    "# Desciption\n",
    "x.describe()\n",
    "# a particular column\n",
    "x.iloc[1:2, 1 : 3].describe()\n",
    "#\n",
    "x.loc['Sam'].mean()"
   ]
  },
  {
   "cell_type": "code",
   "execution_count": null,
   "metadata": {},
   "outputs": [],
   "source": []
  }
 ],
 "metadata": {
  "interpreter": {
   "hash": "ce1e901da04acbe50dd99cd0d91cb411cb2166c3507dec81ce620981a8df4741"
  },
  "kernelspec": {
   "display_name": "Python 3.9.5 64-bit",
   "language": "python",
   "name": "python3"
  },
  "language_info": {
   "codemirror_mode": {
    "name": "ipython",
    "version": 3
   },
   "file_extension": ".py",
   "mimetype": "text/x-python",
   "name": "python",
   "nbconvert_exporter": "python",
   "pygments_lexer": "ipython3",
   "version": "3.9.5"
  },
  "orig_nbformat": 4
 },
 "nbformat": 4,
 "nbformat_minor": 2
}
